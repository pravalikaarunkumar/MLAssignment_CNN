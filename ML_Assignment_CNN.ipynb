{
 "cells": [
  {
   "attachments": {},
   "cell_type": "markdown",
   "metadata": {},
   "source": [
    "ML ASSIGNMENT: IMAGE CLASSIFICATION USING CNN"
   ]
  },
  {
   "attachments": {},
   "cell_type": "markdown",
   "metadata": {},
   "source": [
    "Importing the required libraries:"
   ]
  },
  {
   "cell_type": "code",
   "execution_count": 1,
   "metadata": {},
   "outputs": [],
   "source": [
    "import tensorflow as tf\n",
    "from tensorflow.keras import datasets, layers, models\n",
    "import matplotlib.pyplot as plt\n",
    "import numpy as np"
   ]
  },
  {
   "attachments": {},
   "cell_type": "markdown",
   "metadata": {},
   "source": [
    "PREPROCESSING THE DATE:"
   ]
  },
  {
   "attachments": {},
   "cell_type": "markdown",
   "metadata": {},
   "source": [
    "Loading the data set & Splitting it into train and test data:"
   ]
  },
  {
   "cell_type": "code",
   "execution_count": 2,
   "metadata": {},
   "outputs": [],
   "source": [
    "(x_train, y_train), (x_test,y_test) = datasets.cifar10.load_data()"
   ]
  },
  {
   "attachments": {},
   "cell_type": "markdown",
   "metadata": {},
   "source": [
    "Reshaping the data:"
   ]
  },
  {
   "cell_type": "code",
   "execution_count": 3,
   "metadata": {},
   "outputs": [
    {
     "data": {
      "text/plain": [
       "(50000, 32, 32, 3)"
      ]
     },
     "execution_count": 3,
     "metadata": {},
     "output_type": "execute_result"
    }
   ],
   "source": [
    "x_train.shape"
   ]
  },
  {
   "cell_type": "code",
   "execution_count": 4,
   "metadata": {},
   "outputs": [
    {
     "data": {
      "text/plain": [
       "(10000, 32, 32, 3)"
      ]
     },
     "execution_count": 4,
     "metadata": {},
     "output_type": "execute_result"
    }
   ],
   "source": [
    "x_test.shape"
   ]
  },
  {
   "cell_type": "code",
   "execution_count": 5,
   "metadata": {},
   "outputs": [
    {
     "data": {
      "text/plain": [
       "(50000, 1)"
      ]
     },
     "execution_count": 5,
     "metadata": {},
     "output_type": "execute_result"
    }
   ],
   "source": [
    "y_train.shape"
   ]
  },
  {
   "cell_type": "code",
   "execution_count": 6,
   "metadata": {},
   "outputs": [
    {
     "data": {
      "text/plain": [
       "array([[6],\n",
       "       [9],\n",
       "       [9],\n",
       "       [4],\n",
       "       [1]], dtype=uint8)"
      ]
     },
     "execution_count": 6,
     "metadata": {},
     "output_type": "execute_result"
    }
   ],
   "source": [
    "y_train[:5]"
   ]
  },
  {
   "cell_type": "code",
   "execution_count": 7,
   "metadata": {},
   "outputs": [
    {
     "data": {
      "text/plain": [
       "array([[3],\n",
       "       [8],\n",
       "       [8],\n",
       "       [0],\n",
       "       [6]], dtype=uint8)"
      ]
     },
     "execution_count": 7,
     "metadata": {},
     "output_type": "execute_result"
    }
   ],
   "source": [
    "y_test[:5]"
   ]
  },
  {
   "cell_type": "code",
   "execution_count": 8,
   "metadata": {},
   "outputs": [
    {
     "data": {
      "text/plain": [
       "array([6, 9, 9, 4, 1], dtype=uint8)"
      ]
     },
     "execution_count": 8,
     "metadata": {},
     "output_type": "execute_result"
    }
   ],
   "source": [
    "y_train = y_train.reshape(-1,)\n",
    "y_train[:5]"
   ]
  },
  {
   "cell_type": "code",
   "execution_count": 9,
   "metadata": {},
   "outputs": [
    {
     "data": {
      "text/plain": [
       "array([3, 8, 8, 0, 6], dtype=uint8)"
      ]
     },
     "execution_count": 9,
     "metadata": {},
     "output_type": "execute_result"
    }
   ],
   "source": [
    "y_test = y_test.reshape(-1,)\n",
    "y_test[:5]"
   ]
  },
  {
   "cell_type": "code",
   "execution_count": 10,
   "metadata": {},
   "outputs": [],
   "source": [
    "classes = [\"airplane\",\"automobile\",\"bird\",\"cat\",\"deer\",\"dog\",\"frog\",\"horse\",\"ship\",\"truck\"]"
   ]
  },
  {
   "attachments": {},
   "cell_type": "markdown",
   "metadata": {},
   "source": [
    "Normalising the images:"
   ]
  },
  {
   "cell_type": "code",
   "execution_count": 11,
   "metadata": {},
   "outputs": [],
   "source": [
    "x_train = x_train / 255.0\n",
    "x_test = x_test / 255.0"
   ]
  },
  {
   "attachments": {},
   "cell_type": "markdown",
   "metadata": {},
   "source": [
    "Building a CNN model for classifying the images:"
   ]
  },
  {
   "cell_type": "code",
   "execution_count": 12,
   "metadata": {},
   "outputs": [],
   "source": [
    "cnn = models.Sequential([layers.Conv2D(filters=32, kernel_size=(3, 3), activation='relu', input_shape=(32, 32, 3)),\n",
    "                         layers.MaxPooling2D((2, 2)),\n",
    "                         layers.Conv2D(filters=64, kernel_size=(3, 3), activation='relu'),\n",
    "                         layers.MaxPooling2D((2, 2)),\n",
    "                         layers.Flatten(),\n",
    "                         layers.Dense(64, activation='relu'),\n",
    "                         layers.Dense(10, activation='softmax')])"
   ]
  },
  {
   "cell_type": "code",
   "execution_count": 13,
   "metadata": {},
   "outputs": [],
   "source": [
    "cnn.compile(optimizer='adam', loss='sparse_categorical_crossentropy', metrics=['accuracy'])"
   ]
  },
  {
   "cell_type": "code",
   "execution_count": 14,
   "metadata": {},
   "outputs": [
    {
     "name": "stdout",
     "output_type": "stream",
     "text": [
      "Epoch 1/30\n",
      "1563/1563 [==============================] - 69s 42ms/step - loss: 1.4585 - accuracy: 0.4773\n",
      "Epoch 2/30\n",
      "1563/1563 [==============================] - 63s 40ms/step - loss: 1.1062 - accuracy: 0.6094\n",
      "Epoch 3/30\n",
      "1563/1563 [==============================] - 54s 34ms/step - loss: 0.9654 - accuracy: 0.6639\n",
      "Epoch 4/30\n",
      "1563/1563 [==============================] - 47s 30ms/step - loss: 0.8747 - accuracy: 0.6968\n",
      "Epoch 5/30\n",
      "1563/1563 [==============================] - 55s 35ms/step - loss: 0.7940 - accuracy: 0.7237\n",
      "Epoch 6/30\n",
      "1563/1563 [==============================] - 63s 40ms/step - loss: 0.7330 - accuracy: 0.7450\n",
      "Epoch 7/30\n",
      "1563/1563 [==============================] - 78s 50ms/step - loss: 0.6744 - accuracy: 0.7676\n",
      "Epoch 8/30\n",
      "1563/1563 [==============================] - 45s 29ms/step - loss: 0.6253 - accuracy: 0.7826\n",
      "Epoch 9/30\n",
      "1563/1563 [==============================] - 49s 32ms/step - loss: 0.5824 - accuracy: 0.7963\n",
      "Epoch 10/30\n",
      "1563/1563 [==============================] - 47s 30ms/step - loss: 0.5348 - accuracy: 0.8122\n",
      "Epoch 11/30\n",
      "1563/1563 [==============================] - 47s 30ms/step - loss: 0.4927 - accuracy: 0.8270\n",
      "Epoch 12/30\n",
      "1563/1563 [==============================] - 50s 32ms/step - loss: 0.4547 - accuracy: 0.8405\n",
      "Epoch 13/30\n",
      "1563/1563 [==============================] - 47s 30ms/step - loss: 0.4169 - accuracy: 0.8534\n",
      "Epoch 14/30\n",
      "1563/1563 [==============================] - 47s 30ms/step - loss: 0.3837 - accuracy: 0.8650\n",
      "Epoch 15/30\n",
      "1563/1563 [==============================] - 48s 31ms/step - loss: 0.3523 - accuracy: 0.8761\n",
      "Epoch 16/30\n",
      "1563/1563 [==============================] - 48s 30ms/step - loss: 0.3260 - accuracy: 0.8847\n",
      "Epoch 17/30\n",
      "1563/1563 [==============================] - 47s 30ms/step - loss: 0.2984 - accuracy: 0.8955\n",
      "Epoch 18/30\n",
      "1563/1563 [==============================] - 45s 29ms/step - loss: 0.2736 - accuracy: 0.9031\n",
      "Epoch 19/30\n",
      "1563/1563 [==============================] - 42s 27ms/step - loss: 0.2533 - accuracy: 0.9095\n",
      "Epoch 20/30\n",
      "1563/1563 [==============================] - 42s 27ms/step - loss: 0.2268 - accuracy: 0.9187\n",
      "Epoch 21/30\n",
      "1563/1563 [==============================] - 45s 29ms/step - loss: 0.2165 - accuracy: 0.9218\n",
      "Epoch 22/30\n",
      "1563/1563 [==============================] - 45s 29ms/step - loss: 0.1973 - accuracy: 0.9286\n",
      "Epoch 23/30\n",
      "1563/1563 [==============================] - 49s 31ms/step - loss: 0.1852 - accuracy: 0.9334\n",
      "Epoch 24/30\n",
      "1563/1563 [==============================] - 47s 30ms/step - loss: 0.1729 - accuracy: 0.9384\n",
      "Epoch 25/30\n",
      "1563/1563 [==============================] - 44s 28ms/step - loss: 0.1602 - accuracy: 0.9436\n",
      "Epoch 26/30\n",
      "1563/1563 [==============================] - 60s 38ms/step - loss: 0.1531 - accuracy: 0.9450\n",
      "Epoch 27/30\n",
      "1563/1563 [==============================] - 40s 26ms/step - loss: 0.1375 - accuracy: 0.9507\n",
      "Epoch 28/30\n",
      "1563/1563 [==============================] - 47s 30ms/step - loss: 0.1426 - accuracy: 0.9489\n",
      "Epoch 29/30\n",
      "1563/1563 [==============================] - 44s 28ms/step - loss: 0.1284 - accuracy: 0.9542\n",
      "Epoch 30/30\n",
      "1563/1563 [==============================] - 44s 28ms/step - loss: 0.1201 - accuracy: 0.9572\n"
     ]
    },
    {
     "data": {
      "text/plain": [
       "<keras.callbacks.History at 0x14e99d8e260>"
      ]
     },
     "execution_count": 14,
     "metadata": {},
     "output_type": "execute_result"
    }
   ],
   "source": [
    "cnn.fit(x_train, y_train, epochs=30)"
   ]
  },
  {
   "cell_type": "code",
   "execution_count": 15,
   "metadata": {},
   "outputs": [
    {
     "name": "stdout",
     "output_type": "stream",
     "text": [
      "313/313 [==============================] - 3s 10ms/step - loss: 2.2245 - accuracy: 0.6733\n"
     ]
    },
    {
     "data": {
      "text/plain": [
       "[2.2245397567749023, 0.67330002784729]"
      ]
     },
     "execution_count": 15,
     "metadata": {},
     "output_type": "execute_result"
    }
   ],
   "source": [
    "cnn.evaluate(x_test,y_test)"
   ]
  },
  {
   "cell_type": "code",
   "execution_count": 16,
   "metadata": {},
   "outputs": [
    {
     "name": "stdout",
     "output_type": "stream",
     "text": [
      "313/313 [==============================] - 4s 10ms/step\n"
     ]
    }
   ],
   "source": [
    "y_pred = cnn.predict(x_test)"
   ]
  },
  {
   "cell_type": "code",
   "execution_count": 17,
   "metadata": {},
   "outputs": [],
   "source": [
    "y_classes = [np.argmax(element) for element in y_pred]"
   ]
  },
  {
   "attachments": {},
   "cell_type": "markdown",
   "metadata": {},
   "source": [
    "Predicting the classes from the test set:"
   ]
  },
  {
   "cell_type": "code",
   "execution_count": 19,
   "metadata": {},
   "outputs": [],
   "source": [
    "def plot_sample(x, y, index):\n",
    "    plt.figure(figsize = (15,2))\n",
    "    plt.imshow(x[index])\n",
    "    plt.xlabel(classes[y[index]])"
   ]
  },
  {
   "cell_type": "code",
   "execution_count": 20,
   "metadata": {},
   "outputs": [
    {
     "data": {
      "image/png": "[encoded data removed]",
      "text/plain": [
       "<Figure size 1500x200 with 1 Axes>"
      ]
     },
     "metadata": {},
     "output_type": "display_data"
    }
   ],
   "source": [
    "plot_sample(x_test, y_test,0)"
   ]
  },
  {
   "cell_type": "code",
   "execution_count": 21,
   "metadata": {},
   "outputs": [
    {
     "data": {
      "text/plain": [
       "'cat'"
      ]
     },
     "execution_count": 21,
     "metadata": {},
     "output_type": "execute_result"
    }
   ],
   "source": [
    "classes[y_classes[0]]"
   ]
  },
  {
   "attachments": {},
   "cell_type": "markdown",
   "metadata": {},
   "source": [
    "Prediction is CORRECT"
   ]
  },
  {
   "cell_type": "code",
   "execution_count": 22,
   "metadata": {},
   "outputs": [
    {
     "data": {
      "image/png": "[encoded data removed]",
      "text/plain": [
       "<Figure size 1500x200 with 1 Axes>"
      ]
     },
     "metadata": {},
     "output_type": "display_data"
    }
   ],
   "source": [
    "plot_sample(x_test, y_test,4)"
   ]
  },
  {
   "cell_type": "code",
   "execution_count": 23,
   "metadata": {},
   "outputs": [
    {
     "data": {
      "text/plain": [
       "'deer'"
      ]
     },
     "execution_count": 23,
     "metadata": {},
     "output_type": "execute_result"
    }
   ],
   "source": [
    "classes[y_classes[4]]"
   ]
  },
  {
   "attachments": {},
   "cell_type": "markdown",
   "metadata": {},
   "source": [
    "Prediction is WRONG"
   ]
  },
  {
   "cell_type": "code",
   "execution_count": 24,
   "metadata": {},
   "outputs": [
    {
     "data": {
      "image/png": "[encoded data removed]",
      "text/plain": [
       "<Figure size 1500x200 with 1 Axes>"
      ]
     },
     "metadata": {},
     "output_type": "display_data"
    }
   ],
   "source": [
    "plot_sample(x_test, y_test,25)"
   ]
  },
  {
   "cell_type": "code",
   "execution_count": 25,
   "metadata": {},
   "outputs": [
    {
     "data": {
      "text/plain": [
       "'bird'"
      ]
     },
     "execution_count": 25,
     "metadata": {},
     "output_type": "execute_result"
    }
   ],
   "source": [
    "classes[y_classes[25]]"
   ]
  },
  {
   "attachments": {},
   "cell_type": "markdown",
   "metadata": {},
   "source": [
    "Prediction is WRONG"
   ]
  },
  {
   "cell_type": "code",
   "execution_count": 26,
   "metadata": {},
   "outputs": [
    {
     "data": {
      "image/png": "[encoded data removed]",
      "text/plain": [
       "<Figure size 1500x200 with 1 Axes>"
      ]
     },
     "metadata": {},
     "output_type": "display_data"
    }
   ],
   "source": [
    "plot_sample(x_test, y_test,17)"
   ]
  },
  {
   "cell_type": "code",
   "execution_count": 27,
   "metadata": {},
   "outputs": [
    {
     "data": {
      "text/plain": [
       "'horse'"
      ]
     },
     "execution_count": 27,
     "metadata": {},
     "output_type": "execute_result"
    }
   ],
   "source": [
    "classes[y_classes[17]]"
   ]
  },
  {
   "attachments": {},
   "cell_type": "markdown",
   "metadata": {},
   "source": [
    "Prediction is CORRECT"
   ]
  },
  {
   "cell_type": "code",
   "execution_count": 28,
   "metadata": {},
   "outputs": [
    {
     "data": {
      "image/png": "[encoded data removed]",
      "text/plain": [
       "<Figure size 1500x200 with 1 Axes>"
      ]
     },
     "metadata": {},
     "output_type": "display_data"
    }
   ],
   "source": [
    "plot_sample(x_test, y_test,12)"
   ]
  },
  {
   "cell_type": "code",
   "execution_count": 29,
   "metadata": {},
   "outputs": [
    {
     "data": {
      "text/plain": [
       "'cat'"
      ]
     },
     "execution_count": 29,
     "metadata": {},
     "output_type": "execute_result"
    }
   ],
   "source": [
    "classes[y_classes[12]]"
   ]
  },
  {
   "attachments": {},
   "cell_type": "markdown",
   "metadata": {},
   "source": [
    "Prediction is WRONG"
   ]
  }
 ],
 "metadata": {
  "kernelspec": {
   "display_name": "base",
   "language": "python",
   "name": "python3"
  },
  "language_info": {
   "codemirror_mode": {
    "name": "ipython",
    "version": 3
   },
   "file_extension": ".py",
   "mimetype": "text/x-python",
   "name": "python",
   "nbconvert_exporter": "python",
   "pygments_lexer": "ipython3",
   "version": "3.10.9"
  },
  "orig_nbformat": 4
 },
 "nbformat": 4,
 "nbformat_minor": 2
}
